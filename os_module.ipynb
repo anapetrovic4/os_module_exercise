{
 "cells": [
  {
   "cell_type": "code",
   "execution_count": 21,
   "metadata": {},
   "outputs": [
    {
     "name": "stdout",
     "output_type": "stream",
     "text": [
      "Current working directory: /mnt/c/projects/os_module_task\n"
     ]
    }
   ],
   "source": [
    "import os\n",
    "\n",
    "# Get the current working directory\n",
    "cwd = os.getcwd()\n",
    "print('Current working directory:', cwd)"
   ]
  },
  {
   "cell_type": "code",
   "execution_count": 22,
   "metadata": {},
   "outputs": [
    {
     "name": "stdout",
     "output_type": "stream",
     "text": [
      "Current working directory before:\n",
      "/mnt/c/projects/os_module_task\n",
      "\n",
      "Current working directory before:\n",
      "/mnt/c/projects/os_module_task\n",
      "\n"
     ]
    }
   ],
   "source": [
    "# Change the cwd\n",
    "def current_path():\n",
    "    print('Current working directory before:')\n",
    "    print(os.getcwd())\n",
    "    print()\n",
    "current_path()\n",
    "os.chdir('/mnt/c/projects/os_module_task')\n",
    "current_path()"
   ]
  },
  {
   "cell_type": "code",
   "execution_count": null,
   "metadata": {},
   "outputs": [],
   "source": [
    "# Creating a directory - os.mkdir()\n",
    "\n",
    "# Prvi nacin\n",
    "directory = 'os_test_file'\n",
    "parent_dir = '/mnt/c/projects/'\n",
    "path = os.path.join(parent_dir, directory)\n",
    "\n",
    "os.mkdir(path)\n",
    "print(\"Directory '%s' created\" % directory)"
   ]
  },
  {
   "cell_type": "code",
   "execution_count": 26,
   "metadata": {},
   "outputs": [
    {
     "name": "stdout",
     "output_type": "stream",
     "text": [
      "Directory 'os_test_file_2' created\n"
     ]
    }
   ],
   "source": [
    "# Drugi nacin\n",
    "directory = 'os_test_file_2'\n",
    "parent_dir = '/mnt/c/projects/'\n",
    "mode = 0o666 # grants read and write permissions\n",
    "path = os.path.join(parent_dir, directory)\n",
    "\n",
    "os.mkdir(path, mode)\n",
    "print(\"Directory '%s' created\" % directory)"
   ]
  },
  {
   "cell_type": "code",
   "execution_count": 30,
   "metadata": {},
   "outputs": [
    {
     "name": "stdout",
     "output_type": "stream",
     "text": [
      "Directory 'ana_test' created\n"
     ]
    }
   ],
   "source": [
    "# Creating a directory - os.makedirs()\n",
    "directory = 'ana_test'\n",
    "parent_dir = '/mnt/c/projects/os_test_file'\n",
    "path = os.path.join(parent_dir, directory)\n",
    "\n",
    "os.makedirs(path)\n",
    "print(\"Directory '%s' created\" % directory)"
   ]
  },
  {
   "cell_type": "code",
   "execution_count": 32,
   "metadata": {},
   "outputs": [
    {
     "name": "stdout",
     "output_type": "stream",
     "text": [
      "Directory 'ana_test_2' created\n"
     ]
    }
   ],
   "source": [
    "directory = 'ana_test_2'\n",
    "parent_dir = '/mnt/c/projects/os_test_file_2'\n",
    "path = os.path.join(parent_dir, directory)\n",
    "\n",
    "os.makedirs(path)\n",
    "print(\"Directory '%s' created\" % directory)"
   ]
  },
  {
   "cell_type": "code",
   "execution_count": 56,
   "metadata": {},
   "outputs": [
    {
     "name": "stdout",
     "output_type": "stream",
     "text": [
      "['banana.txt']\n"
     ]
    }
   ],
   "source": [
    "# Create new file\n",
    "path = '/mnt/c/projects/os_test_file/ana_test'\n",
    "\n",
    "with open(os.path.join(path, 'banana.txt'), 'w') as fp:\n",
    "    pass\n",
    "\n",
    "dir_list = os.listdir(path)\n",
    "print(dir_list)"
   ]
  },
  {
   "cell_type": "code",
   "execution_count": 37,
   "metadata": {},
   "outputs": [
    {
     "name": "stdout",
     "output_type": "stream",
     "text": [
      "Files and directories in ' /mnt/c/projects/ ' :\n",
      "['drugi_task', 'os_module_task', 'os_test_file', 'os_test_file_2', 'prvi_task', 'test_yolov8n', 'ultralytics', 'ZaUcenje', 'ZaUcenje.zip']\n"
     ]
    }
   ],
   "source": [
    "# List files and directories\n",
    "\n",
    "path = \"/mnt/c/projects/\"\n",
    "dir_list = os.listdir(path)\n",
    "\n",
    "print(\"Files and directories in '\", path, \"' :\")\n",
    "print(dir_list)"
   ]
  },
  {
   "cell_type": "code",
   "execution_count": 53,
   "metadata": {},
   "outputs": [],
   "source": [
    "# Delete files and directories\n",
    "\n",
    "# os.rmdir() - brise direktorijume\n",
    "directory = 'ana.txt'\n",
    "location = '/mnt/c/projects/os_test_file/ana_test/'\n",
    "path = os.path.join(location, directory)\n",
    "\n",
    "os.rmdir(path)"
   ]
  },
  {
   "cell_type": "code",
   "execution_count": 70,
   "metadata": {},
   "outputs": [
    {
     "name": "stdout",
     "output_type": "stream",
     "text": [
      "['apple.txt']\n",
      "Old file name: 'banana.txt' does not exist\n"
     ]
    }
   ],
   "source": [
    "# Rename the files\n",
    "fd = 'banana.txt'\n",
    "nn  = 'apple.txt'\n",
    "directory = '/mnt/c/projects/os_test_file/ana_test'\n",
    "\n",
    "dir_list = os.listdir('/mnt/c/projects/os_test_file/ana_test/')\n",
    "print(dir_list)\n",
    "\n",
    "old_path = os.path.join(directory, fd)\n",
    "new_path = os.path.join(directory, nn)\n",
    "\n",
    "if os.path.exists(fd):\n",
    "    os.rename(old_path, new_path)\n",
    "else:\n",
    "    print(f\"Old file name: '{fd}' does not exist\")"
   ]
  },
  {
   "cell_type": "code",
   "execution_count": null,
   "metadata": {},
   "outputs": [],
   "source": []
  }
 ],
 "metadata": {
  "kernelspec": {
   "display_name": "test2",
   "language": "python",
   "name": "python3"
  },
  "language_info": {
   "codemirror_mode": {
    "name": "ipython",
    "version": 3
   },
   "file_extension": ".py",
   "mimetype": "text/x-python",
   "name": "python",
   "nbconvert_exporter": "python",
   "pygments_lexer": "ipython3",
   "version": "3.12.2"
  }
 },
 "nbformat": 4,
 "nbformat_minor": 2
}
