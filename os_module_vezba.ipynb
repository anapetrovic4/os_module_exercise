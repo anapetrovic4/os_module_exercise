{
 "cells": [
  {
   "cell_type": "code",
   "execution_count": 1,
   "metadata": {},
   "outputs": [],
   "source": [
    "import os"
   ]
  },
  {
   "cell_type": "code",
   "execution_count": null,
   "metadata": {},
   "outputs": [],
   "source": [
    "# Rename folders JPEGImages -> images and SegmentationClass -> labels\n",
    "old_name_images = 'JPEGImages'\n",
    "old_name_labels = 'SegmentationClass'\n",
    "\n",
    "new_name_images = 'images'\n",
    "new_name_labels = 'labels'\n",
    "\n",
    "directory = '/mnt/c/projects/ZaUcenje/'\n",
    "\n",
    "dir_list = os.listdir('/mnt/c/projects/ZaUcenje/')\n",
    "print(dir_list)\n",
    "\n",
    "old_path_images = os.path.join(directory, old_name_images)\n",
    "old_path_labels = os.path.join(directory, old_name_labels)\n",
    "\n",
    "new_path_images = os.path.join(directory, new_name_images)\n",
    "new_path_labels = os.path.join(directory, new_name_labels)\n",
    "\n",
    "if os.path.exists(old_path_images):\n",
    "    os.rename(old_path_images, new_path_images)\n",
    "else:\n",
    "    print(f\"Old folder name: '{old_name_images}' does not exist!\")\n",
    "\n",
    "if os.path.exists(old_path_labels):\n",
    "    os.rename(old_path_labels, new_path_labels)\n",
    "else:\n",
    "    print(f\"Old folder name: '{old_name_labels}' does not exist!\")"
   ]
  },
  {
   "cell_type": "code",
   "execution_count": null,
   "metadata": {},
   "outputs": [
    {
     "name": "stdout",
     "output_type": "stream",
     "text": [
      "Path /mnt/c/projects/ZaUcenje/labels2 is already created\n"
     ]
    }
   ],
   "source": [
    "# Create new directory labels2\n",
    "directory = 'labels2'\n",
    "parent_dir = '/mnt/c/projects/ZaUcenje/'\n",
    "path = os.path.join(parent_dir, directory)\n",
    "\n",
    "if os.path.exists(path):\n",
    "    print(f\"Path {path} is already created\")\n",
    "else:\n",
    "    os.mkdir(path)\n",
    "    print(\"Directory '%s' created\" % directory)"
   ]
  },
  {
   "cell_type": "code",
   "execution_count": null,
   "metadata": {},
   "outputs": [],
   "source": [
    "# Copy everything from labels to labels2\n",
    "import shutil\n",
    "\n",
    "source = '/mnt/c/projects/ZaUcenje/labels/'\n",
    "destination = '/mnt/c/projects/ZaUcenje/labels2/'\n",
    "\n",
    "print(\"Before copying file: \")\n",
    "print(os.listdir(destination))\n",
    "\n",
    "labels = os.listdir(source)\n",
    "\n",
    "for file in labels:\n",
    "    shutil.copy(source+file, destination+file)\n",
    "print(\"Success\")\n"
   ]
  },
  {
   "cell_type": "code",
   "execution_count": null,
   "metadata": {},
   "outputs": [],
   "source": [
    "# List items from images that are not present in labels - TEST\n",
    "def list_unique_items(path1, path2, source, destination):\n",
    "\n",
    "    folder1 = os.listdir(path1)\n",
    "    folder2 = os.listdir(path2)\n",
    "    \n",
    "    list = []\n",
    "\n",
    "    for element in folder1:\n",
    "        if element not in folder2:\n",
    "            list.append(element)\n",
    "\n",
    "    print('Items that are present only in images, but not in labels: ')\n",
    "    print(list)\n",
    "\n",
    "    print('The lenght of the list is:')\n",
    "    print(len(list))\n",
    "\n",
    "    for file in list:\n",
    "        shutil.copy(source+file, destination+file)\n",
    "    print(os.listdir(destination))\n",
    "\n",
    "list_unique_items('/mnt/c/projects/ZaUcenje/images/', '/mnt/c/projects/ZaUcenje/labels2/', '/mnt/c/projects/ZaUcenje/images/', '/mnt/c/projects/ZaUcenje/labels2/')"
   ]
  },
  {
   "cell_type": "code",
   "execution_count": null,
   "metadata": {},
   "outputs": [],
   "source": [
    "# Delete mismatched files between images and labels\n",
    "def delete_mismatched_files(path1, path2):\n",
    "    \n",
    "    images = os.listdir(path1)\n",
    "    labels = os.listdir(path2)\n",
    "\n",
    "    print('Before: ')\n",
    "    print(images)\n",
    "    print(labels)\n",
    "\n",
    "    for element in images:\n",
    "        if element not in labels:\n",
    "            os.remove(os.path.join(path1, element)) # os.remove prima putanju, a ne ime !!!\n",
    "\n",
    "    print('After:')      \n",
    "    print(images)\n",
    "    print(labels)\n",
    "\n",
    "delete_mismatched_files('/mnt/c/projects/ZaUcenje/images', '/mnt/c/projects/ZaUcenje/labels')"
   ]
  },
  {
   "cell_type": "code",
   "execution_count": null,
   "metadata": {},
   "outputs": [],
   "source": [
    "# Create train, test and val folders\n",
    "\n",
    "def create_folders():\n",
    "    directory_train = 'train'\n",
    "    directory_test = 'test'\n",
    "    directory_val = 'val'\n",
    "\n",
    "    parent_dir_images = '/mnt/c/projects/ZaUcenje/images'\n",
    "    parent_dir_labels = 'mnt/c/projects/ZaUcenje/labels'\n",
    "\n",
    "    mode = 0o666\n",
    "\n",
    "    path_images_train = os.path.join(parent_dir_images, directory_train)\n",
    "    path_images_test = os.path.join(parent_dir_images, directory_test)\n",
    "    path_images_val = os.path.join(parent_dir_images, directory_val)\n",
    "\n",
    "    path_labels_train = os.path.join(parent_dir_labels, directory_train)\n",
    "    path_labels_test = os.path.join(parent_dir_labels, directory_test)\n",
    "    path_labels_val = os.path.join(parent_dir_labels, directory_val)\n",
    "\n",
    "    os.mkdir(path_images_train, mode)\n",
    "    print(\"Directory '%s' created\" % directory_train)\n",
    "\n",
    "    os.mkdir(path_images_test, mode)\n",
    "    print(\"Directory '%s' created\" % directory_test)\n",
    "\n",
    "    os.mkdir(path_images_val, mode)\n",
    "    print(\"Directory '%s' created\" % directory_val)\n",
    "\n",
    "    os.mkdir(path_labels_train, mode)\n",
    "    print(\"Directory '%s' created\" % directory_train)\n",
    "\n",
    "    os.mkdir(path_labels_test, mode)\n",
    "    print(\"Directory '%s' created\" % directory_test)\n",
    "\n",
    "    os.mkdir(path_labels_val, mode)\n",
    "    print(\"Directory '%s' created\" % directory_val)"
   ]
  },
  {
   "cell_type": "code",
   "execution_count": null,
   "metadata": {},
   "outputs": [
    {
     "name": "stdout",
     "output_type": "stream",
     "text": [
      "Directory 'train' is created\n",
      "Directory 'test' is created\n",
      "Directory 'val' is created\n",
      "Directory 'train' is created\n",
      "Directory 'test' is created\n",
      "Directory 'val' is created\n"
     ]
    }
   ],
   "source": [
    "def create_folders(folder_name, parent_dir):\n",
    "    directory = folder_name\n",
    "    parent = parent_dir\n",
    "\n",
    "    path = os.path.join(parent, directory)\n",
    "\n",
    "    os.makedirs(path)\n",
    "    print(\"Directory '%s' is created\" % directory)\n",
    "\n",
    "# create train, test, val in images\n",
    "create_folders('train', '/mnt/c/projects/ZaUcenje/images/')\n",
    "create_folders('test', '/mnt/c/projects/ZaUcenje/images/')\n",
    "create_folders('val', '/mnt/c/projects/ZaUcenje/images/')\n",
    "\n",
    "# create train, test, val in labels\n",
    "create_folders('train', '/mnt/c/projects/ZaUcenje/labels/')\n",
    "create_folders('test', '/mnt/c/projects/ZaUcenje/labels/')\n",
    "create_folders('val', '/mnt/c/projects/ZaUcenje/labels/')\n"
   ]
  },
  {
   "cell_type": "code",
   "execution_count": null,
   "metadata": {},
   "outputs": [
    {
     "name": "stdout",
     "output_type": "stream",
     "text": [
      "['test', 'train', 'val']\n",
      "['density4_zoom20_15.873852446964696_44.813268285829146_google.png', 'density4_zoom20_15.873852446964696_44.813268285829146_google_180.png', 'density4_zoom20_15.873852446964696_44.813268285829146_google_90.png', 'density4_zoom20_15.87471028538015_44.81386755437477_google_45.png', 'density4_zoom20_16.151792093571785_44.88128526575689_google_180.png', 'density4_zoom20_16.152221012779513_44.88368233993936_google_180.png', 'density4_zoom20_16.152649931987238_44.87978709439284_google_45.png', 'density4_zoom20_16.1552234472336_44.877989288755984_google.png', 'density4_zoom20_16.1552234472336_44.877989288755984_google_315.png', 'density4_zoom20_16.155652366441327_44.87619148311913_google_45.png', 'density4_zoom20_16.15779696247996_44.87619148311913_google_225.png', 'density4_zoom20_16.381263869705723_45.04428631016521_google_180.png', 'density4_zoom20_16.381263869705723_45.04428631016521_google_315.png', 'density4_zoom20_16.381263869705723_45.04428631016521_google_45.png', 'density4_zoom20_16.537390461318342_45.21897309121311_google_270.png', 'density4_zoom20_16.541250734187884_45.22017162830434_google.png', 'density4_zoom20_16.660919193143716_44.770120950544595_google_135.png', 'density4_zoom20_16.66306378918235_44.76832314490774_google_135.png', 'density4_zoom20_16.69737732580051_44.96008907950577_google_90.png', 'density4_zoom20_16.69737732580051_44.961287616597005_google_90.png', 'density4_zoom20_16.69737732580051_44.981363112875236_google.png', 'density4_zoom20_16.69737732580051_44.981363112875236_google_135.png', 'density4_zoom20_16.69737732580051_44.981363112875236_google_225.png', 'density4_zoom20_16.69737732580051_44.981363112875236_google_90.png', 'density4_zoom20_16.699093002631415_44.96158725086981_google_225.png', 'density4_zoom20_16.699093002631415_44.96158725086981_google_45.png', 'density4_zoom20_16.700808679462323_44.97986494151119_google.png', 'density4_zoom20_16.70166651787778_44.979565307238374_google_315.png', 'density4_zoom20_16.71110274044777_44.951399685594296_google_225.png', 'density4_zoom20_16.7115316596555_44.95199895413992_google_270.png', 'density4_zoom20_16.713247336486408_44.98166274714805_google_180.png', 'density4_zoom20_16.713247336486408_44.98166274714805_google_45.png', 'density4_zoom20_16.714963013317316_44.98166274714805_google_180.png', 'density4_zoom20_16.71753652856368_44.986456895512994_google.png', 'density4_zoom20_16.71753652856368_44.986456895512994_google_90.png', 'density4_zoom20_16.72225463984867_44.98465908987614_google_225.png', 'density4_zoom20_16.72225463984867_44.98465908987614_google_270.png', 'density4_zoom20_16.723112478264127_44.96608176496195_google_225.png', 'density4_zoom20_16.723112478264127_44.96608176496195_google_90.png', 'density4_zoom20_16.724399235887308_44.980164575783995_google_270.png', 'density4_zoom20_16.726543831925945_44.96578213068914_google_135.png', 'density4_zoom20_16.72911734717231_44.986456895512994_google.png', 'density4_zoom20_16.731690862418667_44.987056164058615_google_135.png', 'density4_zoom20_16.731690862418667_44.987056164058615_google_315.png', 'density4_zoom20_16.731690862418667_44.987056164058615_google_90.png', 'density4_zoom20_16.734693296872756_44.98106347860242_google_225.png', 'density4_zoom20_16.736837892911392_44.97836677014714_google.png', 'density4_zoom20_16.737266812119117_44.980164575783995_google_270.png', 'density4_zoom20_16.799031178031804_45.185414052658444_google_135.png', 'density4_zoom20_16.79988901644726_45.18511441838564_google.png', 'density4_zoom20_16.79988901644726_45.18511441838564_google_135.png', 'density4_zoom20_16.79988901644726_45.18511441838564_google_90.png', 'density4_zoom20_16.80803848139407_45.179421367202266_google_90.png', 'density4_zoom20_16.808896319809524_45.175526121655736_google_315.png', 'density4_zoom20_16.808896319809524_45.175526121655736_google_45.png', 'density4_zoom20_16.80975415822498_45.17672465874698_google_180.png', 'density4_zoom20_16.80975415822498_45.17672465874698_google_45.png', 'density4_zoom20_16.80975415822498_45.1806199042935_google_180.png', 'density4_zoom20_16.80975415822498_45.1806199042935_google_90.png', 'density4_zoom20_16.811469835055885_45.18091953856631_google_225.png', 'density4_zoom20_16.811469835055885_45.18091953856631_google_315.png', 'density4_zoom20_16.813614431094518_45.17792319583822_google_270.png', 'density4_zoom20_16.816187946340882_45.17312904747327_google_135.png', 'density4_zoom20_16.816187946340882_45.17312904747327_google_225.png', 'density4_zoom20_16.816187946340882_45.17312904747327_google_315.png', 'density4_zoom20_16.816187946340882_45.17312904747327_google_45.png', 'density4_zoom20_16.81790362317179_45.17492685311012_google.png', 'density4_zoom20_16.81790362317179_45.17492685311012_google_225.png', 'density4_zoom20_16.81790362317179_45.17492685311012_google_45.png', 'density4_zoom20_17.010488347441207_43.8286700653774_google_45.png', 'density4_zoom20_17.010488347441207_43.82896969965021_google_135.png', 'density4_zoom20_17.010488347441207_43.82896969965021_google_45.png', 'density4_zoom20_17.16661493905383_44.774315830363925_google_270.png', 'density4_zoom20_17.167043858261557_44.77521473318235_google_45.png', 'density4_zoom20_17.167472777469285_44.77641327027359_google.png', 'density4_zoom20_17.16790169667701_44.773716561818304_google_315.png', 'density4_zoom20_17.168330615884738_44.77791144163764_google_225.png', 'density4_zoom20_17.170475211923375_44.777611807364835_google_270.png', 'density4_zoom20_17.181627111324275_44.781207418638544_google.png', 'density4_zoom20_17.181627111324275_44.781207418638544_google_135.png', 'density4_zoom20_17.189776576271086_44.786600835549116_google_135.png', 'density4_zoom20_17.19363684914063_44.79499059518778_google_135.png', 'density4_zoom20_17.19406576834836_44.78420376136663_google_315.png', 'density4_zoom20_17.19406576834836_44.78420376136663_google_90.png', 'density4_zoom20_17.194494687556087_44.78360449282101_google_225.png', 'density4_zoom20_17.194494687556087_44.78360449282101_google_315.png', 'density4_zoom20_17.19535252597154_44.797986937915866_google.png', 'density4_zoom20_17.19535252597154_44.797986937915866_google_270.png', 'density4_zoom20_17.19535252597154_44.797986937915866_google_45.png', 'density4_zoom20_17.195781445179268_44.798586206461486_google_225.png', 'density4_zoom20_17.197497122010176_44.79768730364306_google_315.png', 'density4_zoom20_17.20221523329517_44.797986937915866_google.png', 'density4_zoom20_17.20221523329517_44.797986937915866_google_90.png', 'density4_zoom20_17.20521766774926_44.79918547500711_google_45.png', 'density4_zoom20_17.210364698241982_44.82045950837657_google_45.png', 'density4_zoom20_17.211651455865162_44.80308072055363_google_180.png', 'density4_zoom20_17.21208037507289_44.8021818177352_google_180.png', 'density4_zoom20_17.21208037507289_44.8021818177352_google_45.png', 'density4_zoom20_17.21208037507289_44.82045950837657_google.png', 'density4_zoom20_17.212509294280615_44.80248145200801_google_180.png', 'density4_zoom20_17.212509294280615_44.80248145200801_google_225.png', 'density4_zoom20_17.212938213488343_44.798586206461486_google.png', 'density4_zoom20_17.212938213488343_44.798586206461486_google_180.png', 'density4_zoom20_17.212938213488343_44.798586206461486_google_225.png', 'density4_zoom20_17.212938213488343_44.79978474355272_google_180.png', 'density4_zoom20_17.212938213488343_44.814466822920394_google_225.png', 'density4_zoom20_17.212938213488343_44.816564262830056_google_315.png', 'density4_zoom20_17.21465389031925_44.81266901728353_google_225.png', 'density4_zoom20_17.215511728734707_44.811770114465105_google_225.png', 'density4_zoom20_17.215940647942432_44.81536572573882_google.png', 'density4_zoom20_17.215940647942432_44.81536572573882_google_90.png', 'density4_zoom20_17.216798486357888_44.81386755437477_google_45.png', 'density4_zoom20_17.228379304966516_43.71690648161949_google_135.png', 'density4_zoom20_17.228379304966516_43.717206115892296_google_45.png', 'density4_zoom20_17.255401215053315_45.14646159719322_google_180.png', 'density4_zoom20_17.256687972676495_45.14676123146603_google_225.png', 'density4_zoom20_17.256687972676495_45.14676123146603_google_270.png', 'density4_zoom20_17.256687972676495_45.14676123146603_google_45.png', 'density4_zoom20_17.257545811091948_45.14676123146603_google_315.png', 'density4_zoom20_17.259690407130588_45.14616196292042_google_225.png', 'density4_zoom20_17.26054824554604_45.15365281974065_google_135.png', 'density4_zoom20_17.26054824554604_45.15365281974065_google_315.png', 'density4_zoom20_17.372496158762782_44.48996290546779_google_315.png', 'density4_zoom20_17.372496158762782_44.48996290546779_google_90.png', 'density4_zoom20_17.40166266488822_44.146881663101006_google_135.png', 'density4_zoom20_17.453561889023185_44.05639211271256_google_180.png', 'density4_zoom20_17.453561889023185_44.05639211271256_google_45.png', 'density4_zoom20_17.456564323477274_44.06118626107751_google_45.png', 'density4_zoom20_17.45870891951591_44.05908882116784_google_135.png', 'density4_zoom20_17.459137838723635_44.05968808971346_google_315.png', 'density4_zoom20_17.459137838723635_44.05968808971346_google_90.png', 'density4_zoom20_17.653867159031684_44.871696969026985_google_225.png', 'density4_zoom20_17.655153916654864_44.880685997211266_google.png', 'density4_zoom20_17.655153916654864_44.880685997211266_google_180.png', 'density4_zoom20_17.81556970034476_43.345959251881425_google_225.png', 'density4_zoom20_17.816427538760212_43.34416144624457_google.png', 'density4_zoom20_17.816427538760212_43.34416144624457_google_180.png', 'density4_zoom20_17.816427538760212_43.34805669179109_google_315.png', 'density4_zoom20_17.81728537717567_43.34146473778929_google_180.png', 'density4_zoom20_17.81728537717567_43.34146473778929_google_90.png', 'density4_zoom20_17.81857213479885_43.34416144624457_google_315.png', 'density4_zoom20_17.89620651139743_43.964104756687256_google_135.png', 'density4_zoom20_17.908645168421515_44.97567006169186_google_180.png', 'density4_zoom20_17.930520048015588_44.197220220932984_google.png', 'density4_zoom20_17.971696291957382_44.15137617719314_google_135.png', 'density4_zoom20_17.971696291957382_44.15137617719314_google_270.png', 'density4_zoom20_17.972983049580563_44.15077690864752_google_180.png', 'density4_zoom20_18.00600982857554_45.145562694374796_google_225.png', 'density4_zoom20_18.00729658619872_45.14376488873794_google_270.png', 'density4_zoom20_18.026169031338707_44.509139498927595_google.png', 'density4_zoom20_18.026597950546435_44.51153657311007_google_45.png', 'density4_zoom20_18.036892011531883_44.42793861099624_google_225.png', 'density4_zoom20_18.039036607570516_44.42614080535939_google_315.png', 'density4_zoom20_18.059624729541415_44.835441222017046_google_135.png', 'density4_zoom20_18.059624729541415_44.835441222017046_google_315.png', 'density4_zoom20_18.06048256795687_44.834841953471425_google_45.png', 'density4_zoom20_18.074636901811857_44.72817215235128_google.png', 'density4_zoom20_18.074636901811857_44.72817215235128_google_315.png', 'density4_zoom20_18.077210417058218_44.72967032371532_google_135.png', 'density4_zoom20_18.116242064961376_44.11482079591039_google.png', 'density4_zoom20_18.116242064961376_44.11482079591039_google_225.png', 'density4_zoom20_18.116242064961376_44.11482079591039_google_315.png', 'density4_zoom20_18.116242064961376_44.11482079591039_google_45.png', 'density4_zoom20_18.118386661000013_44.11392189309196_google_225.png', 'density4_zoom20_18.17414615800452_43.985079155783914_google_270.png', 'density4_zoom20_18.175003996419974_43.98477952151111_google_225.png', 'density4_zoom20_18.177577511666335_43.99137147551291_google_135.png', 'density4_zoom20_18.177577511666335_43.99137147551291_google_270.png', 'density4_zoom20_18.20974645224586_44.72967032371532_google_180.png', 'density4_zoom20_18.21103320986904_44.728471786624084_google_315.png', 'density4_zoom20_18.21103320986904_44.728471786624084_google_45.png', 'density4_zoom20_18.273226494989455_43.98927403560325_google_135.png', 'density4_zoom20_18.273226494989455_43.98927403560325_google_270.png', 'density4_zoom20_18.273226494989455_43.98927403560325_google_45.png', 'density4_zoom20_18.286094071221264_44.96218651941543_google_270.png', 'density4_zoom20_18.286094071221264_44.96218651941543_google_315.png', 'density4_zoom20_18.286522990428992_44.96158725086981_google_135.png', 'density4_zoom20_18.286522990428992_44.96158725086981_google_225.png', 'density4_zoom20_18.2882386672599_44.96218651941543_google_180.png', 'density4_zoom20_18.2882386672599_44.96218651941543_google_270.png', 'density4_zoom20_18.303679758738067_44.95110005132148_google_135.png', 'density4_zoom20_18.304108677945795_43.80200261509736_google_135.png', 'density4_zoom20_18.304108677945795_44.94630590295653_google_270.png', 'density4_zoom20_18.304108677945795_44.94630590295653_google_315.png', 'density4_zoom20_18.304108677945795_44.95199895413992_google_180.png', 'density4_zoom20_18.304966516361247_44.952897856958344_google_270.png', 'density4_zoom20_18.304966516361247_44.95829127386891_google_225.png', 'density4_zoom20_18.304966516361247_44.95829127386891_google_315.png', 'density4_zoom20_18.305824354776703_44.70150470207124_google_315.png', 'density4_zoom20_18.307540031607612_44.70210397061686_google.png', 'density4_zoom20_18.308826789230793_44.702703239162474_google_135.png', 'density4_zoom20_18.308826789230793_44.702703239162474_google_90.png', 'density4_zoom20_18.310113546853977_44.70539994761776_google_180.png', 'density4_zoom20_18.310113546853977_44.70539994761776_google_45.png', 'density4_zoom20_18.3105424660617_43.79541066109555_google_315.png', 'density4_zoom20_18.311829223684885_44.70539994761776_google.png', 'density4_zoom20_18.311829223684885_44.70539994761776_google_270.png', 'density4_zoom20_18.311829223684885_44.70539994761776_google_315.png', 'density4_zoom20_18.311829223684885_44.70539994761776_google_90.png', 'density4_zoom20_18.313115981308062_43.7936128554587_google_180.png', 'density4_zoom20_18.313115981308062_43.812489814645694_google_225.png', 'density4_zoom20_18.31611841576215_43.81398798600974_google_315.png', 'density4_zoom20_18.318263011800784_43.86942032647948_google_135.png', 'density4_zoom20_18.318263011800784_43.86942032647948_google_315.png', 'density4_zoom20_18.32083652704715_45.00833019742808_google_315.png', 'density4_zoom20_18.32083652704715_45.00833019742808_google_90.png', 'density4_zoom20_18.321694365462605_45.01042763733775_google.png', 'density4_zoom20_18.321694365462605_45.01222544297461_google_90.png', 'density4_zoom20_18.323410042293514_45.013423980065845_google_270.png', 'density4_zoom20_18.323838961501238_45.01252507724742_google_45.png', 'density4_zoom20_18.324267880708966_45.00623275751842_google_180.png', 'density4_zoom20_18.324267880708966_45.00623275751842_google_90.png', 'density4_zoom20_18.324267880708966_45.00803056315527_google_225.png', 'density4_zoom20_18.324267880708966_45.00803056315527_google_315.png', 'density4_zoom20_18.324267880708966_45.00922910024651_google_315.png', 'density4_zoom20_18.32469679991669_43.816085425919404_google_270.png', 'density4_zoom20_18.32469679991669_43.86552508093296_google_135.png', 'density4_zoom20_18.32512571912442_45.00922910024651_google_45.png', 'density4_zoom20_18.325554638332143_43.81638506019221_google_270.png', 'density4_zoom20_18.3264124767476_43.86492581238734_google_45.png', 'density4_zoom20_18.326841395955324_45.00982836879213_google_45.png', 'density4_zoom20_18.326841395955324_45.00982836879213_google_90.png', 'density4_zoom20_18.32727031516305_43.86642398375139_google_225.png', 'density4_zoom20_18.328557072786232_43.816085425919404_google_135.png', 'density4_zoom20_18.328557072786232_43.816085425919404_google_225.png', 'density4_zoom20_18.329843830409413_44.16456008519676_google_135.png', 'density4_zoom20_18.33027274961714_45.01102690588337_google_225.png', 'density4_zoom20_18.33070166882487_45.01462251715708_google_90.png', 'density4_zoom20_18.331130588032597_45.010128003064935_google_90.png', 'density4_zoom20_18.331130588032597_45.013423980065845_google.png', 'density4_zoom20_18.331130588032597_45.01462251715708_google_315.png', 'density4_zoom20_18.332417345655777_45.01042763733775_google_135.png', 'density4_zoom20_18.332417345655777_45.01042763733775_google_225.png', 'density4_zoom20_18.332846264863505_43.857734589839914_google_270.png', 'density4_zoom20_18.332846264863505_43.85803422411273_google_135.png', 'density4_zoom20_18.332846264863505_43.85803422411273_google_90.png', 'density4_zoom20_18.335419780109866_43.858933126931156_google_90.png', 'density4_zoom20_18.34185356822577_43.86073093256801_google_180.png', 'density4_zoom20_18.34185356822577_43.86073093256801_google_90.png', 'density4_zoom20_18.343998164264406_42.71702691325445_google_315.png', 'density4_zoom20_18.345284921887586_42.71792581607288_google_270.png', 'density4_zoom20_18.345284921887586_42.71792581607288_google_90.png', 'density4_zoom20_18.345713841095314_43.86162983538644_google_225.png', 'density4_zoom20_18.346142760303042_43.861929469659245_google_90.png', 'density4_zoom20_18.34657167951077_43.857734589839914_google.png', 'density4_zoom20_18.34657167951077_43.857734589839914_google_315.png', 'density4_zoom20_18.347429517926223_43.85803422411273_google_225.png', 'density4_zoom20_18.35000303317258_43.86013166402239_google_90.png', 'density4_zoom20_18.35000303317258_43.8604312982952_google_315.png', 'density4_zoom20_18.350860871588036_43.861330201113624_google.png', 'density4_zoom20_18.350860871588036_43.861330201113624_google_270.png', 'density4_zoom20_18.35128979079576_43.85863349265834_google_45.png', 'density4_zoom20_18.355578982873034_43.86222910393205_google_135.png', 'density4_zoom20_18.355578982873034_43.86222910393205_google_180.png', 'density4_zoom20_18.355578982873034_43.86222910393205_google_315.png', 'density4_zoom20_18.355578982873034_43.86222910393205_google_90.png', 'density4_zoom20_18.356007902080762_43.85383934429339_google_315.png', 'density4_zoom20_18.356007902080762_43.85383934429339_google_90.png', 'density4_zoom20_18.356007902080762_43.86103056684082_google_45.png', 'density4_zoom20_18.35643682128849_43.861330201113624_google_135.png', 'density4_zoom20_18.35643682128849_43.861330201113624_google_270.png', 'density4_zoom20_18.356865740496215_43.86342764102329_google_225.png', 'density4_zoom20_18.356865740496215_43.86342764102329_google_45.png', 'density4_zoom20_18.357294659703943_43.83945689919854_google_225.png', 'density4_zoom20_18.357294659703943_43.83945689919854_google_315.png', 'density4_zoom20_18.357294659703943_43.85863349265834_google_270.png', 'density4_zoom20_18.35772357891167_43.861929469659245_google_315.png', 'density4_zoom20_18.3581524981194_43.8541389785662_google_135.png', 'density4_zoom20_18.35901033653485_43.85683568702149_google_180.png', 'density4_zoom20_18.359439255742576_43.8604312982952_google_315.png', 'density4_zoom20_18.361154932573484_43.858933126931156_google_90.png', 'density4_zoom20_18.361154932573484_43.86342764102329_google_315.png', 'density4_zoom20_18.362012770988937_43.84005616774416_google.png', 'density4_zoom20_18.362012770988937_43.84005616774416_google_180.png', 'density4_zoom20_18.362012770988937_43.84005616774416_google_225.png', 'density4_zoom20_18.362441690196665_43.83945689919854_google_225.png', 'density4_zoom20_18.362441690196665_43.85653605274868_google_225.png', 'density4_zoom20_18.363299528612117_43.86282837247767_google_315.png', 'density4_zoom20_18.366730882273934_43.84005616774416_google_225.png', 'density4_zoom20_18.366730882273934_43.840355802016965_google_225.png', 'density4_zoom20_18.366730882273934_43.840355802016965_google_315.png', 'density4_zoom20_18.367159801481662_43.84065543628978_google_270.png', 'density4_zoom20_18.36758872068939_43.843052510472255_google_45.png', 'density4_zoom20_18.36801763989712_43.83855799638011_google_270.png', 'density4_zoom20_18.36801763989712_43.83855799638011_google_90.png', 'density4_zoom20_18.3693043975203_43.83855799638011_google.png', 'density4_zoom20_18.371448993558932_43.84425104756349_google_315.png', 'density4_zoom20_18.371448993558932_43.84425104756349_google_45.png', 'density4_zoom20_18.373593589597565_43.83945689919854_google.png', 'density4_zoom20_18.373593589597565_43.83945689919854_google_135.png', 'density4_zoom20_18.373593589597565_43.83945689919854_google_270.png', 'density4_zoom20_18.373593589597565_43.83945689919854_google_315.png', 'density4_zoom20_18.373593589597565_43.83945689919854_google_90.png', 'density4_zoom20_18.373593589597565_43.843651779017875_google_180.png', 'density4_zoom20_18.375309266428477_43.84065543628978_google_225.png', 'density4_zoom20_18.375309266428477_43.84275287619945_google.png', 'density4_zoom20_18.37745386246711_43.84215360765383_google_270.png', 'density4_zoom20_18.378311700882563_43.85953239547677_google_45.png', 'density4_zoom20_18.37874062009029_43.84035580201697_google.png', 'density4_zoom20_18.37874062009029_43.84035580201697_google_135.png', 'density4_zoom20_18.379598458505747_43.84095507056259_google_315.png', 'density4_zoom20_18.379598458505747_43.84574921892754_google_90.png', 'density4_zoom20_18.3804562969212_43.84035580201697_google_315.png', 'density4_zoom20_18.3804562969212_43.84035580201697_google_90.png', 'density4_zoom20_18.3804562969212_43.84335214474506_google_180.png', 'density4_zoom20_18.3804562969212_43.84335214474506_google_315.png', 'density4_zoom20_18.382600892959836_43.84335214474506_google.png', 'density4_zoom20_18.387747923452558_43.861929469659245_google_180.png', 'density4_zoom20_18.387747923452558_43.861929469659245_google_90.png', 'density4_zoom20_18.387747923452558_43.86462617811453_google.png', 'density4_zoom20_18.387747923452558_43.86462617811453_google_315.png', 'density4_zoom20_18.387747923452558_43.86462617811453_google_90.png', 'density4_zoom20_18.389463600283467_43.88080642884624_google_225.png', 'density4_zoom20_18.38989251949119_43.8637272752961_google_45.png', 'density4_zoom20_18.391179277114375_43.86282837247767_google_315.png', 'density4_zoom20_18.392037115529828_43.87990752602781_google_180.png', 'density4_zoom20_18.392037115529828_43.87990752602781_google_45.png', 'density4_zoom20_18.393323873153008_43.87870898893657_google_180.png', 'density4_zoom20_18.393323873153008_43.87870898893657_google_315.png', 'density4_zoom20_18.394181711568464_43.87840935466376_google_90.png', 'density4_zoom20_18.396755226814822_43.86971996075229_google_315.png', 'density4_zoom20_18.398041984438002_43.867322886569816_google_135.png', 'density4_zoom20_18.398041984438002_43.867322886569816_google_225.png', 'density4_zoom20_18.401902257307547_43.8700195950251_google_135.png', 'density4_zoom20_18.421203621655263_43.864626178114534_google_270.png', 'density4_zoom20_18.422061460070715_43.86702325229701_google_225.png', 'density4_zoom20_18.422490379278443_43.877210817572525_google_90.png', 'density4_zoom20_18.42291929848617_43.86552508093296_google.png', 'density4_zoom20_18.42291929848617_43.87751045184533_google_315.png', 'density4_zoom20_18.425492813732532_43.85114263583811_google_90.png', 'density4_zoom20_18.426779571355713_43.849344830201254_google_315.png', 'density4_zoom20_18.42763740977117_43.864026909568906_google_90.png', 'density4_zoom20_18.42849524818662_43.85174190438373_google.png', 'density4_zoom20_18.42849524818662_43.85174190438373_google_45.png', 'density4_zoom20_18.42849524818662_43.8637272752961_google_45.png', 'density4_zoom20_18.42849524818662_43.8637272752961_google_90.png', 'density4_zoom20_18.429782005809805_43.867322886569816_google.png', 'density4_zoom20_18.43021092501753_43.865225446660155_google_180.png', 'density4_zoom20_18.430639844225258_43.86912069220667_google_135.png', 'density4_zoom20_18.430639844225258_43.86912069220667_google_180.png', 'density4_zoom20_18.43192660184844_43.86942032647948_google_225.png', 'density4_zoom20_18.43192660184844_43.86942032647948_google_90.png', 'density4_zoom20_18.432355521056166_43.8637272752961_google_135.png', 'density4_zoom20_18.432355521056166_43.86492581238734_google_270.png', 'density4_zoom20_18.432355521056166_43.86852142366105_google_135.png', 'density4_zoom20_18.43321335947162_43.86702325229701_google_315.png', 'density4_zoom20_18.43321335947162_43.86702325229701_google_90.png', 'density4_zoom20_18.433642278679343_43.855037881384625_google_135.png', 'density4_zoom20_18.436215793925705_43.866723618024196_google_270.png', 'density4_zoom20_18.436644713133433_43.864026909568906_google_90.png', 'density4_zoom20_18.43707363234116_43.85593678420305_google.png', 'density4_zoom20_18.43750255154889_43.86462617811453_google.png', 'density4_zoom20_18.43750255154889_43.86462617811453_google_270.png', 'density4_zoom20_18.43878930917207_43.86432654384172_google_180.png', 'density4_zoom20_18.43878930917207_43.86432654384172_google_225.png', 'density4_zoom20_18.43964714758752_43.855637149930246_google_45.png', 'density4_zoom20_18.440504986002978_43.856236418475866_google.png', 'density4_zoom20_18.441362824418434_43.8637272752961_google_135.png', 'density4_zoom20_18.441362824418434_43.8637272752961_google_315.png', 'density4_zoom20_18.443078501249342_43.86432654384172_google_180.png', 'density4_zoom20_18.446509854911152_43.50326724510637_google.png', 'density4_zoom20_18.446509854911152_43.50326724510637_google_45.png', 'density4_zoom20_18.446509854911152_43.50356687937918_google_90.png', 'density4_zoom20_18.464953380843415_45.06016692662411_google_315.png', 'density4_zoom20_18.46709797688205_45.060766195169734_google_45.png', 'density4_zoom20_18.49583556379976_44.70240360488967_google.png', 'density4_zoom20_18.516852604978382_44.54929049148405_google_45.png', 'density4_zoom20_18.517710443393835_44.54509561166472_google_315.png', 'density4_zoom20_18.63780782155739_44.538503657662915_google_135.png', 'density4_zoom20_18.63780782155739_44.538503657662915_google_180.png', 'density4_zoom20_18.63780782155739_44.538503657662915_google_45.png', 'density4_zoom20_18.638665659972844_45.04099033316431_google_180.png', 'density4_zoom20_18.641668094426933_45.04428631016521_google_315.png', 'density4_zoom20_18.64381269046557_45.0436870416196_google_45.png', 'density4_zoom20_18.645957286504206_44.46029911245966_google_90.png', 'density4_zoom20_18.64810188254284_44.45940020964123_google_270.png', 'density4_zoom20_18.654535670658742_44.76802351063493_google_225.png', 'density4_zoom20_18.654535670658742_44.76802351063493_google_315.png', 'density4_zoom20_18.65496458986647_44.76862277918055_google_225.png', 'density4_zoom20_18.655822428281922_44.44292032463671_google.png', 'density4_zoom20_18.655822428281922_44.44292032463671_google_135.png', 'density4_zoom20_18.65668026669738_44.44292032463671_google_315.png', 'density4_zoom20_18.65668026669738_44.528016458114585_google_135.png', 'density4_zoom20_18.65668026669738_44.528016458114585_google_180.png', 'density4_zoom20_18.65668026669738_44.76982131627179_google_90.png', 'density4_zoom20_18.657109185905107_44.54299817175506_google_315.png', 'density4_zoom20_18.65796702432056_44.53041353229706_google_315.png', 'density4_zoom20_18.658824862736015_44.54209926893663_google_45.png', 'density4_zoom20_18.660111620359196_44.53071316656987_google.png', 'density4_zoom20_18.660111620359196_44.53071316656987_google_90.png', 'density4_zoom20_18.66354297402101_44.53400914357078_google.png', 'density4_zoom20_18.66482973164419_45.04788192143892_google_270.png', 'density4_zoom20_18.668261085306007_44.77940961300169_google.png', 'density4_zoom20_18.668261085306007_45.04668338434769_google_45.png', 'density4_zoom20_18.671692438967824_44.779709247274496_google_180.png', 'density4_zoom20_18.671692438967824_44.779709247274496_google_270.png', 'density4_zoom20_18.671692438967824_44.779709247274496_google_90.png', 'density4_zoom20_18.687991368861447_45.03529728198093_google_180.png', 'density4_zoom20_18.687991368861447_45.03529728198093_google_225.png', 'density4_zoom20_18.690993803315536_45.0373947218906_google_135.png', 'density4_zoom20_18.690993803315536_45.0373947218906_google_180.png', 'density4_zoom20_18.692709480146444_44.781207418638544_google_180.png', 'density4_zoom20_18.692709480146444_44.781207418638544_google_45.png', 'density4_zoom20_18.69742759143144_45.032300939252835_google_180.png', 'density4_zoom20_18.725307339933696_44.82795036519681_google.png', 'density4_zoom20_18.745895461904592_44.74105642608208_google_45.png', 'density4_zoom20_18.745895461904592_44.74105642608208_google_90.png', 'density4_zoom20_18.776348725653207_44.868101357753275_google_225.png', 'density4_zoom20_18.776348725653207_44.868101357753275_google_45.png', 'density4_zoom20_18.776777644860935_44.868700626298896_google_180.png', 'density4_zoom20_18.779780079315024_44.8690002605717_google_225.png', 'density4_zoom20_18.779780079315024_44.8690002605717_google_315.png', 'density4_zoom20_18.791360897923653_44.878588557301605_google_90.png', 'density4_zoom20_18.792218736339105_44.868700626298896_google_315.png', 'density4_zoom20_18.79565009000092_44.86989916339013_google_180.png', 'density4_zoom20_18.799510362870464_43.938336209225646_google.png', 'density4_zoom20_18.799510362870464_43.938336209225646_google_90.png', 'density4_zoom20_18.80036820128592_43.937736940680026_google_90.png', 'density4_zoom20_18.80036820128592_44.86091013520585_google_270.png', 'density4_zoom20_18.8016549589091_44.86091013520585_google_90.png', 'density4_zoom20_18.80208387811683_44.8624083065699_google_45.png', 'density4_zoom20_18.808517666232728_44.87409404320946_google_45.png', 'density4_zoom20_18.808946585440456_44.860310866660235_google_315.png', 'density4_zoom20_18.808946585440456_44.873794408936654_google_315.png', 'density4_zoom20_18.808946585440456_44.873794408936654_google_45.png', 'density4_zoom20_18.81194901989455_44.856415621113705_google_225.png', 'density4_zoom20_18.81194901989455_44.859711598114615_google.png', 'density4_zoom20_18.812377939102273_44.86001123238742_google_90.png', 'density4_zoom20_18.81280685831_44.85461781547685_google_270.png', 'density4_zoom20_18.81280685831_44.86929989484452_google_180.png', 'density4_zoom20_18.81323577751773_44.86150940375147_google_270.png', 'density4_zoom20_18.81323577751773_44.86150940375147_google_90.png', 'density4_zoom20_18.81323577751773_44.86929989484452_google.png', 'density4_zoom20_18.81323577751773_44.86929989484452_google_225.png', 'density4_zoom20_18.81452253514091_44.857014889659325_google_270.png', 'density4_zoom20_18.81452253514091_44.857014889659325_google_90.png', 'density4_zoom20_18.817096050387267_44.85851306102337_google_225.png', 'density4_zoom20_18.817953888802723_44.85791379247775_google_315.png', 'density4_zoom20_18.818382808010448_44.87439367748227_google_135.png', 'density4_zoom20_18.818382808010448_44.87439367748227_google_180.png', 'density4_zoom20_18.818811727218176_44.85731452393213_google.png', 'density4_zoom20_18.938480186174008_44.1816392387469_google_315.png', 'density4_zoom20_18.961641823391265_44.58944148404051_google_315.png', 'density4_zoom20_18.964215338637626_44.590040752586134_google_135.png', 'density4_zoom20_18.981372106946708_43.676156220517406_google.png', 'density4_zoom20_18.981372106946708_43.676156220517406_google_270.png', 'density4_zoom20_18.983087783777616_43.67735475760865_google_135.png', 'density4_zoom20_19.01053861307214_43.79900627236927_google_135.png', 'density4_zoom20_19.071016221361646_43.55570324284802_google_270.png', 'density4_zoom20_19.10061164669481_44.38509090998449_google_225.png', 'density4_zoom20_19.10189840431799_44.38449164143887_google.png', 'density4_zoom20_19.10189840431799_44.38449164143887_google_225.png', 'density4_zoom20_19.10189840431799_44.38449164143887_google_45.png', 'density4_zoom20_19.194973872394744_44.75693704254098_google.png', 'density4_zoom20_19.196689549225653_44.75364106554008_google_135.png', 'density4_zoom20_19.19754738764111_44.751843259903225_google_270.png', 'density4_zoom20_19.199263064472017_44.75304179699446_google_315.png', 'density4_zoom20_19.199263064472017_44.75364106554008_google.png', 'density4_zoom20_19.199263064472017_44.75364106554008_google_270.png', 'density4_zoom20_19.201836579718375_44.74974581999356_google_315.png', 'density4_zoom20_19.201836579718375_44.74974581999356_google_90.png', 'density4_zoom20_19.203552256549283_44.75184325990322_google_270.png', 'density4_zoom20_19.203552256549283_44.76352899654279_google_225.png', 'density4_zoom20_19.204839014172464_44.75004545426636_google_135.png', 'density4_zoom20_19.204839014172464_44.76292972799717_google_45.png', 'density4_zoom20_19.205267933380192_44.751843259903225_google_45.png', 'density4_zoom20_19.206554691003372_44.65655956114983_google_270.png', 'density4_zoom20_19.2069836102111_44.751843259903225_google_135.png', 'density4_zoom20_19.2069836102111_44.751843259903225_google_225.png', 'density4_zoom20_19.207841448626553_44.65536102405859_google_45.png', 'density4_zoom20_19.20827036783428_44.752442528448846_google_90.png', 'density4_zoom20_19.20869928704201_44.750644722811984_google_270.png', 'density4_zoom20_19.209557125457465_44.655960292604206_google_225.png', 'density4_zoom20_19.209557125457465_44.75214289417603_google_90.png', 'density4_zoom20_19.209557125457465_44.76113192236031_google_90.png', 'density4_zoom20_19.20998604466519_44.75453996835851_google_315.png', 'density4_zoom20_19.20998604466519_44.75453996835851_google_45.png', 'density4_zoom20_19.20998604466519_44.756038139722556_google.png', 'density4_zoom20_19.20998604466519_44.756038139722556_google_90.png', 'density4_zoom20_19.20998604466519_44.76143155663313_google_315.png', 'density4_zoom20_19.210843883080646_44.65536102405859_google_315.png', 'density4_zoom20_19.211701721496098_44.76143155663313_google_315.png', 'density4_zoom20_19.212130640703826_44.754839602631314_google_135.png', 'density4_zoom20_19.212130640703826_44.75693704254098_google_270.png', 'density4_zoom20_19.212130640703826_44.75693704254098_google_315.png', 'density4_zoom20_19.21255955991155_44.75034508853917_google_180.png', 'density4_zoom20_19.21255955991155_44.75094435708479_google.png', 'density4_zoom20_19.213417398327003_44.7512439913576_google_270.png', 'density4_zoom20_19.213417398327003_44.763828630815595_google_180.png', 'density4_zoom20_19.21513307515791_44.74405276881017_google_135.png', 'density4_zoom20_19.21513307515791_44.74405276881017_google_315.png', 'density4_zoom20_19.215990913573364_44.74555094017422_google_225.png', 'density4_zoom20_19.21985118644291_44.74734874581108_google_225.png', 'density4_zoom20_19.21985118644291_44.74734874581108_google_90.png', 'density4_zoom20_19.220280105650637_44.6556606583314_google_225.png', 'density4_zoom20_19.220280105650637_44.6556606583314_google_315.png', 'density4_zoom20_19.221566863273818_44.74555094017422_google_135.png', 'density4_zoom20_19.221566863273818_44.762330459451555_google.png', 'density4_zoom20_19.221566863273818_44.76682497354369_google_270.png', 'density4_zoom20_19.221566863273818_44.76862277918055_google_270.png', 'density4_zoom20_19.221566863273818_44.770120950544595_google.png', 'density4_zoom20_19.221566863273818_44.770120950544595_google_180.png', 'density4_zoom20_19.222424701689274_44.761731190905934_google_270.png', 'density4_zoom20_19.222424701689274_44.76532680217964_google_45.png', 'density4_zoom20_19.222853620897002_44.65715882969545_google.png', 'density4_zoom20_19.222853620897002_44.65715882969545_google_180.png', 'density4_zoom20_19.222853620897002_44.746449842992654_google_225.png', 'density4_zoom20_19.222853620897002_44.746449842992654_google_270.png', 'density4_zoom20_19.223282540104726_44.76952168199898_google_45.png', 'density4_zoom20_19.223711459312455_44.76263009372436_google_270.png', 'density4_zoom20_19.22499821693563_44.76292972799717_google_225.png', 'density4_zoom20_19.22499821693563_44.76292972799717_google_45.png', 'density4_zoom20_19.225856055351088_44.76292972799717_google.png', 'density4_zoom20_19.225856055351088_44.76352899654279_google_135.png', 'density4_zoom20_19.225856055351088_44.76352899654279_google_270.png', 'density4_zoom20_19.225856055351088_44.76622570499807_google.png', 'density4_zoom20_19.228858489805177_44.76532680217964_google_225.png', 'density4_zoom20_19.228858489805177_44.76532680217964_google_270.png', 'density4_zoom20_19.228858489805177_44.76532680217964_google_315.png', 'density4_zoom20_19.231860924259266_44.76562643645245_google_225.png', 'density4_zoom20_19.232718762674722_44.75453996835851_google_315.png', 'density4_zoom20_19.233576601090174_44.756038139722556_google_270.png', 'density4_zoom20_19.233576601090174_44.756038139722556_google_90.png', 'density4_zoom20_19.233576601090174_44.76412826508841_google_225.png', 'density4_zoom20_19.23443443950563_44.76772387636212_google_135.png', 'density4_zoom20_19.234863358713355_44.767424242089305_google_180.png', 'density4_zoom20_19.234863358713355_44.767424242089305_google_225.png', 'density4_zoom20_19.235292277921083_44.76502716790684_google_135.png', 'density4_zoom20_19.243441742867894_44.66255224660601_google.png', 'density4_zoom20_19.24601525811426_44.66195297806039_google_90.png', 'density4_zoom20_19.247730934945164_44.670043103426245_google_45.png', 'density4_zoom20_19.247730934945164_44.670043103426245_google_90.png', 'density4_zoom20_19.249875530983797_44.670642371971866_google_90.png', 'density4_zoom20_19.251162288606977_44.6652489550613_google.png', 'density4_zoom20_19.251162288606977_44.79379205809654_google.png', 'density4_zoom20_19.251162288606977_44.79379205809654_google_90.png', 'density4_zoom20_19.254164723061066_44.6652489550613_google_225.png', 'density4_zoom20_19.254164723061066_44.6652489550613_google_45.png', 'density5_zoom18_16.7226835590564_44.98376018705771_mapbox_180.png', 'density5_zoom18_18.178006430874063_43.98597805860235_mapbox_270.png', 'density5_zoom18_18.18186670374361_43.98597805860234_mapbox_315.png', 'density5_zoom18_18.18186670374361_43.99137147551291_mapbox_45.png', 'density5_zoom18_18.316976254177604_43.81069200900884_mapbox.png', 'density5_zoom18_18.42892416739435_43.848445927382826_mapbox_180.png', 'density5_zoom18_18.42892416739435_43.87541301193567_mapbox_135.png', 'density5_zoom18_18.42892416739435_43.87541301193567_mapbox_225.png', 'density5_zoom18_18.440504986002978_43.85923276120396_mapbox.png', 'density5_zoom18_18.69528299539281_45.034997647708124_mapbox_270.png', 'density5_zoom18_19.116052738172982_44.42823824526905_mapbox_225.png', 'density5_zoom18_19.116052738172982_44.42823824526905_mapbox_270.png', 'density5_zoom18_19.200978741302926_44.75723667681379_mapbox_225.png', 'density5_zoom18_19.21255955991155_44.751843259903225_mapbox.png', 'density5_zoom18_19.216419832781092_44.75993338526908_mapbox_270.png', 'density5_zoom18_19.216419832781092_44.75993338526908_mapbox_45.png', 'density5_zoom18_19.243441742867894_44.660155172423536_mapbox_180.png', 'density5_zoom18_19.243441742867894_44.660155172423536_mapbox_270.png', 'density5_zoom18_19.243441742867894_44.66554858933411_mapbox_180.png', 'density5_zoom18_19.243441742867894_44.66554858933411_mapbox_315.png', 'density5_zoom18_19.247302015737436_44.66554858933411_mapbox.png', 'density5_zoom19_16.529669915579255_45.21904799978131_google.png', 'density5_zoom19_16.529669915579255_45.21904799978131_google_270.png', 'density5_zoom19_16.532565120231414_45.21837382266749_mapbox_45.png', 'density5_zoom19_16.5335301884488_45.21904799978131_google_45.png', 'density5_zoom19_16.5335301884488_45.22039635400895_mapbox_135.png', 'density5_zoom19_16.53642539310096_45.21837382266749_google_180.png', 'density5_zoom19_16.53642539310096_45.21837382266749_google_270.png', 'density5_zoom19_16.723648627273786_44.98173765571625_google_225.png', 'density5_zoom19_16.723648627273786_44.98376018705771_google_180.png', 'density5_zoom19_16.72557876370856_44.98308600994389_google_315.png', 'density5_zoom19_16.72557876370856_44.98308600994389_mapbox_135.png', 'density5_zoom19_16.72557876370856_44.98308600994389_mapbox_45.png', 'density5_zoom19_16.726543831925945_44.98308600994389_mapbox_315.png', 'density5_zoom19_16.734264377665028_44.986456895512994_google_225.png', 'density5_zoom19_16.734264377665028_44.986456895512994_google_90.png', 'density5_zoom19_16.735229445882414_44.986456895512994_google_135.png', 'density5_zoom19_16.735229445882414_44.988479426854454_mapbox_135.png', 'density5_zoom19_16.735229445882414_44.988479426854454_mapbox_315.png', 'density5_zoom19_16.7361945140998_44.988479426854454_google_270.png', 'density5_zoom19_16.7361945140998_44.988479426854454_google_45.png', 'density5_zoom19_16.738124650534573_44.98780524974063_google_135.png', 'density5_zoom19_17.398231311226404_44.14238714900886_google.png', 'density5_zoom19_17.400161447661176_44.1437355032365_google_225.png', 'density5_zoom19_17.400161447661176_44.1437355032365_google_315.png', 'density5_zoom19_17.401126515878563_44.145083857464144_google_180.png', 'density5_zoom19_17.401126515878563_44.145083857464144_google_225.png', 'density5_zoom19_17.40209158409595_44.143061326122684_google_90.png', 'density5_zoom19_18.17414615800452_43.98800058994381_google_180.png', 'density5_zoom19_18.175111226221905_43.98800058994381_google.png', 'density5_zoom19_18.175111226221905_43.98800058994381_google_90.png', 'density5_zoom19_18.175111226221905_43.98800058994381_mapbox_135.png', 'density5_zoom19_18.178006430874063_43.98530388148852_google_135.png', 'density5_zoom19_18.178006430874063_43.98530388148852_google_315.png', 'density5_zoom19_18.178006430874063_43.98665223571617_mapbox_315.png', 'density5_zoom19_18.178006430874063_43.990023121285276_google_225.png', 'density5_zoom19_18.17897149909145_43.9846297043747_google_270.png', 'density5_zoom19_18.17897149909145_43.9846297043747_google_315.png', 'density5_zoom19_18.17897149909145_43.98597805860234_google.png', 'density5_zoom19_18.17897149909145_43.98597805860234_google_225.png', 'density5_zoom19_18.17897149909145_43.98665223571617_google_135.png', 'density5_zoom19_18.17897149909145_43.98665223571617_mapbox_45.png', 'density5_zoom19_18.179936567308836_43.98328135014706_mapbox_90.png', 'density5_zoom19_18.180901635526222_43.98597805860234_google.png', 'density5_zoom19_18.180901635526222_43.98665223571617_google_315.png', 'density5_zoom19_18.180901635526222_43.98867476705763_google_315.png', 'density5_zoom19_18.18186670374361_43.989348944171454_mapbox_135.png', 'density5_zoom19_18.18186670374361_43.99137147551291_mapbox_180.png', 'density5_zoom19_18.18186670374361_43.99137147551291_mapbox_315.png', 'density5_zoom19_18.25521188826492_44.01092261181373_google_135.png', 'density5_zoom19_18.25521188826492_44.01092261181373_google_225.png', 'density5_zoom19_18.259072161134462_44.01159678892755_google_90.png', 'density5_zoom19_18.259072161134462_44.01159678892755_mapbox_180.png', 'density5_zoom19_18.259072161134462_44.01227096604137_google_135.png', 'density5_zoom19_18.319871458829763_43.8127145403503_google_225.png', 'density5_zoom19_18.344963232481792_43.85451352140721_google_90.png', 'density5_zoom19_18.346893368916565_43.85653605274867_mapbox_135.png', 'density5_zoom19_18.347858437133947_43.85586187563485_mapbox_225.png', 'density5_zoom19_18.347858437133947_43.85586187563485_mapbox_270.png', 'density5_zoom19_18.34785843713395_43.85586187563485_google_225.png', 'density5_zoom19_18.34785843713395_43.85586187563485_google_315.png', 'density5_zoom19_18.34785843713395_43.85586187563485_google_45.png', 'density5_zoom19_18.349788573568716_43.85653605274867_google.png', 'density5_zoom19_18.349788573568716_43.85653605274867_google_180.png', 'density5_zoom19_18.350753641786103_43.85383934429339_google_45.png', 'density5_zoom19_18.350753641786103_43.85653605274867_google_225.png', 'density5_zoom19_18.426994030959577_43.87271630348039_mapbox_315.png', 'density5_zoom19_18.426994030959577_43.87339048059421_google_270.png', 'density5_zoom19_18.427959099176963_43.87473883482185_mapbox_135.png', 'density5_zoom19_18.427959099176963_43.87473883482185_mapbox_315.png', 'density5_zoom19_18.42892416739435_43.84979428161047_google_270.png', 'density5_zoom19_18.42892416739435_43.84979428161047_mapbox_270.png', 'density5_zoom19_18.42892416739435_43.87339048059421_google_135.png', 'density5_zoom19_18.42892416739435_43.87339048059421_google_180.png', 'density5_zoom19_18.42892416739435_43.87339048059421_google_270.png', 'density5_zoom19_18.429889235611736_43.85114263583811_google_315.png', 'density5_zoom19_18.429889235611736_43.85114263583811_mapbox_135.png', 'density5_zoom19_18.429889235611736_43.85114263583811_mapbox_315.png', 'density5_zoom19_18.431819372046508_43.848445927382826_google_90.png', 'density5_zoom19_18.441470054220364_43.859906938317785_google.png', 'density5_zoom19_18.441470054220364_43.859906938317785_google_90.png', 'density5_zoom19_18.44243512243775_43.85923276120396_google_90.png', 'density5_zoom19_18.691422722523264_45.037694356163406_google_225.png', 'density5_zoom19_18.693352858958036_45.03634600193577_google_90.png', 'density5_zoom19_18.693352858958036_45.037020179049584_mapbox_180.png', 'density5_zoom19_18.694317927175423_45.034997647708124_google_225.png', 'density5_zoom19_18.694317927175423_45.034997647708124_google_45.png', 'density5_zoom19_18.694317927175423_45.037694356163406_google_315.png', 'density5_zoom19_18.69528299539281_45.037694356163406_google_45.png', 'density5_zoom19_18.808195976826934_44.85768906677315_google_135.png', 'density5_zoom19_18.808195976826934_44.85768906677315_google_270.png', 'density5_zoom19_18.808195976826934_44.859037421000785_google_180.png', 'density5_zoom19_18.80916104504432_44.857014889659325_mapbox_270.png', 'density5_zoom19_19.198083536650767_44.75453996835851_mapbox_135.png', 'density5_zoom19_19.199048604868153_44.75453996835851_google_315.png', 'density5_zoom19_19.199048604868153_44.755888322586145_google_180.png', 'density5_zoom19_19.199048604868153_44.755888322586145_google_225.png', 'density5_zoom19_19.200978741302922_44.75251743701705_google_135.png', 'density5_zoom19_19.200978741302922_44.75251743701705_google_315.png', 'density5_zoom19_19.200978741302922_44.75453996835851_google_270.png', 'density5_zoom19_19.200978741302922_44.75453996835851_google_315.png', 'density5_zoom19_19.200978741302926_44.75656249969997_google_135.png', 'density5_zoom19_19.200978741302926_44.75656249969997_google_315.png', 'density5_zoom19_19.20194380952031_44.75251743701705_google_180.png', 'density5_zoom19_19.20290887773769_44.75453996835851_google_90.png', 'density5_zoom19_19.203873945955078_44.75251743701705_mapbox_180.png', 'density5_zoom19_19.204839014172464_44.75319161413087_mapbox.png', 'density5_zoom19_19.204839014172464_44.75319161413087_mapbox_45.png', 'density5_zoom19_19.204839014172464_44.75453996835851_google_225.png', 'density5_zoom19_19.204839014172464_44.75453996835851_google_270.png', 'density5_zoom19_19.21255955991155_44.74847237433411_google.png', 'density5_zoom19_19.21255955991155_44.749146551447936_mapbox_270.png', 'density5_zoom19_19.213524628128937_44.746449842992654_google_315.png', 'density5_zoom19_19.213524628128937_44.753865791244685_google_225.png', 'density5_zoom19_19.21448969634632_44.75319161413087_google_180.png', 'density5_zoom19_19.21448969634632_44.753865791244685_google.png', 'density5_zoom19_19.21448969634632_44.753865791244685_google_90.png', 'density5_zoom19_19.215454764563706_44.746449842992654_google_45.png', 'density5_zoom19_19.215454764563706_44.76195591661054_google_180.png', 'density5_zoom19_19.215454764563706_44.76263009372436_mapbox_225.png', 'density5_zoom19_19.216419832781092_44.761281739496724_google_270.png', 'density5_zoom19_19.216419832781092_44.76195591661054_google_90.png', 'density5_zoom19_19.21738490099848_44.75993338526908_google_45.png', 'density5_zoom19_19.21738490099848_44.75993338526908_mapbox_225.png', 'density5_zoom19_19.21738490099848_44.75993338526908_mapbox_315.png', 'density5_zoom19_19.218349969215865_44.7606075623829_google_180.png', 'density5_zoom19_19.218349969215865_44.7606075623829_google_90.png', 'density5_zoom19_19.21931503743325_44.75993338526908_google_315.png', 'density5_zoom19_19.21931503743325_44.76195591661054_mapbox_315.png', 'density5_zoom19_19.23958146999835_44.661503526651174_google_135.png', 'density5_zoom19_19.23958146999835_44.661503526651174_google_225.png', 'density5_zoom19_19.240546538215735_44.66082934953736_google_45.png', 'density5_zoom19_19.240546538215735_44.661503526651174_mapbox_45.png', 'density5_zoom19_19.240546538215735_44.66285188087882_google.png', 'density5_zoom19_19.240546538215735_44.66285188087882_google_180.png', 'density5_zoom19_19.240546538215735_44.66352605799265_google.png', 'density5_zoom19_19.240546538215735_44.66352605799265_google_225.png', 'density5_zoom19_19.240546538215735_44.66352605799265_google_270.png', 'density5_zoom19_19.24151160643312_44.66082934953736_mapbox_180.png', 'density5_zoom19_19.242476674650508_44.664874412220286_mapbox_180.png', 'density5_zoom19_19.243441742867894_44.664874412220286_google_225.png', 'density5_zoom19_19.24440681108528_44.664874412220286_mapbox_135.png', 'density5_zoom19_19.24440681108528_44.664874412220286_mapbox_90.png', 'density5_zoom19_19.245371879302667_44.662851880878826_google_225.png', 'density5_zoom19_19.245371879302667_44.66420023510646_google_270.png', 'density5_zoom19_19.247302015737436_44.66622276644793_mapbox_225.png', 'density5_zoom19_19.247302015737436_44.66622276644793_mapbox_315.png', 'density5_zoom19_19.247302015737436_44.66622276644793_mapbox_45.png', 'density5_zoom19_19.247302015737436_44.66689694356175_google_315.png', 'density5_zoom19_19.248267083954822_44.66689694356175_google.png', 'density5_zoom19_19.248267083954822_44.66689694356175_google_315.png', 'density5_zoom19_19.249232152172205_44.66554858933411_google_45.png', 'density5_zoom19_19.249232152172205_44.66554858933411_google_90.png', 'density5_zoom19_19.249232152172205_44.66757112067557_mapbox_270.png', 'density5_zoom19_19.251162288606977_44.66757112067557_google_135.png', 'density5_zoom19_19.251162288606977_44.66757112067557_google_180.png']\n"
     ]
    }
   ],
   "source": [
    "# split files in ratio 0.8, 0.1, 0.1 and set seed\n",
    "import random\n",
    "import shutil\n",
    "\n",
    "random.seed(10)\n",
    "\n",
    "# split images \n",
    "def split_files(path, percentage, source, destination):\n",
    "    images = os.listdir(path)\n",
    "    images = [i for i in os.listdir(path) if os.path.isfile(os.path.join(path, i))]\n",
    "\n",
    "    # create numbers of images to select for splitting\n",
    "    num_to_select = int(len(images) * percentage)\n",
    "\n",
    "    # create percentage of images to select\n",
    "    random_percent = random.sample(images, num_to_select) # returns a list\n",
    "\n",
    "    copied_files = []\n",
    "\n",
    "    for file_name in random_percent:\n",
    "        source_path = source + file_name\n",
    "\n",
    "        if os.path.isfile(source_path):\n",
    "            shutil.copy(source_path, destination)\n",
    "\n",
    "        copied_files.append(file_name)\n",
    "\n",
    "    # select copied files and delete them from images folder\n",
    "    for file_name in images:\n",
    "        if file_name in copied_files:\n",
    "            os.remove(os.path.join(source, file_name))\n",
    "\n",
    "    print(os.listdir(source))\n",
    "    print(os.listdir(destination))\n",
    "\n",
    "split_files('/mnt/c/projects/ZaUcenje/images/', 1, '/mnt/c/projects/ZaUcenje/images/', '/mnt/c/projects/ZaUcenje/images/val/')"
   ]
  }
 ],
 "metadata": {
  "kernelspec": {
   "display_name": "test2",
   "language": "python",
   "name": "python3"
  },
  "language_info": {
   "codemirror_mode": {
    "name": "ipython",
    "version": 3
   },
   "file_extension": ".py",
   "mimetype": "text/x-python",
   "name": "python",
   "nbconvert_exporter": "python",
   "pygments_lexer": "ipython3",
   "version": "3.12.2"
  }
 },
 "nbformat": 4,
 "nbformat_minor": 2
}
